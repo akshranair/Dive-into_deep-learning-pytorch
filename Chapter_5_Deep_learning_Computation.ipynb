{
  "nbformat": 4,
  "nbformat_minor": 0,
  "metadata": {
    "colab": {
      "provenance": [],
      "authorship_tag": "ABX9TyNWyKf7j81uh9eVS1WYhuWL",
      "include_colab_link": true
    },
    "kernelspec": {
      "name": "python3",
      "display_name": "Python 3"
    },
    "language_info": {
      "name": "python"
    }
  },
  "cells": [
    {
      "cell_type": "markdown",
      "metadata": {
        "id": "view-in-github",
        "colab_type": "text"
      },
      "source": [
        "<a href=\"https://colab.research.google.com/github/akshranair/Dive-into_deep-learning-pytorch/blob/main/Chapter_5_Deep_learning_Computation.ipynb\" target=\"_parent\"><img src=\"https://colab.research.google.com/assets/colab-badge.svg\" alt=\"Open In Colab\"/></a>"
      ]
    },
    {
      "cell_type": "code",
      "execution_count": null,
      "metadata": {
        "id": "3fqYNd3UpRoI"
      },
      "outputs": [],
      "source": [
        "import torch\n",
        "import torch.nn as nn"
      ]
    },
    {
      "cell_type": "code",
      "source": [
        "#Layers and Block"
      ],
      "metadata": {
        "id": "VhwNu_Xmuf5y"
      },
      "execution_count": null,
      "outputs": []
    },
    {
      "cell_type": "code",
      "source": [
        "network = nn.Sequential(\n",
        "    nn.Linear(20,256),\n",
        "    nn.ReLU(),\n",
        "    nn.Linear(256,10),\n",
        ")"
      ],
      "metadata": {
        "id": "WSnZPePDpVHf"
      },
      "execution_count": null,
      "outputs": []
    },
    {
      "cell_type": "code",
      "source": [
        "X = network(torch.rand(2,20))\n",
        "X"
      ],
      "metadata": {
        "colab": {
          "base_uri": "https://localhost:8080/"
        },
        "id": "r8Uk9ORPqsyo",
        "outputId": "9bf03395-69f0-458c-8b30-526ddebc2db7"
      },
      "execution_count": null,
      "outputs": [
        {
          "output_type": "execute_result",
          "data": {
            "text/plain": [
              "tensor([[ 0.1265,  0.2583, -0.1664, -0.1259,  0.0387, -0.0286, -0.0403,  0.0207,\n",
              "         -0.0649, -0.2391],\n",
              "        [-0.0084,  0.3235, -0.1730, -0.1225, -0.1811, -0.0818,  0.0225, -0.0233,\n",
              "          0.1746, -0.2503]], grad_fn=<AddmmBackward0>)"
            ]
          },
          "metadata": {},
          "execution_count": 11
        }
      ]
    },
    {
      "cell_type": "code",
      "source": [
        "#My Custom Block"
      ],
      "metadata": {
        "id": "_U1lPricukDC"
      },
      "execution_count": null,
      "outputs": []
    },
    {
      "cell_type": "code",
      "source": [
        "import torch\n",
        "import torch.nn as nn\n",
        "class MLP(nn.Module):\n",
        "  def __init__(self):\n",
        "    super(MLP,self).__init__()\n",
        "    self.hidden = nn.Linear(20,256)\n",
        "    self.ReLU = nn.ReLU()\n",
        "    self.out = nn.Linear(256,10)\n",
        "\n",
        "  def forward(self,X):\n",
        "    X = self.hidden(X)\n",
        "    X = self.ReLU(X)\n",
        "    X = self.out(X)\n",
        "    return X\n",
        "\n",
        "network = MLP()\n",
        "input_tensor = torch.rand(2, 20)\n",
        "output = network.forward(input_tensor)\n"
      ],
      "metadata": {
        "id": "IkKRylwBskqO"
      },
      "execution_count": null,
      "outputs": []
    },
    {
      "cell_type": "code",
      "source": [
        "\n",
        "\n",
        "class MLP(nn.Module):\n",
        "    def __init__(self):\n",
        "        super(MLP, self).__init__()\n",
        "        self.hidden = nn.Linear(20, 256)\n",
        "        self.relu = nn.ReLU()\n",
        "        self.out = nn.Linear(256, 10)\n",
        "\n",
        "    def forward(self, x):\n",
        "        x = self.hidden(x)\n",
        "        x = self.relu(x)\n",
        "        x = self.out(x)\n",
        "        return x\n",
        "\n",
        "network = MLP()\n",
        "input_tensor = torch.rand(2, 20)\n",
        "output = network.forward(input_tensor)\n"
      ],
      "metadata": {
        "colab": {
          "base_uri": "https://localhost:8080/",
          "height": 204
        },
        "id": "kPX8-C2HuVvb",
        "outputId": "85c8abdc-b67b-40cf-a0eb-c9f112a0fd7f"
      },
      "execution_count": null,
      "outputs": [
        {
          "output_type": "error",
          "ename": "TypeError",
          "evalue": "ignored",
          "traceback": [
            "\u001b[0;31m---------------------------------------------------------------------------\u001b[0m",
            "\u001b[0;31mTypeError\u001b[0m                                 Traceback (most recent call last)",
            "\u001b[0;32m<ipython-input-28-6c465eed396f>\u001b[0m in \u001b[0;36m<cell line: 3>\u001b[0;34m()\u001b[0m\n\u001b[1;32m      1\u001b[0m \u001b[0mnetwork\u001b[0m \u001b[0;34m=\u001b[0m \u001b[0mMLP\u001b[0m\u001b[0;34m(\u001b[0m\u001b[0;34m)\u001b[0m\u001b[0;34m\u001b[0m\u001b[0;34m\u001b[0m\u001b[0m\n\u001b[1;32m      2\u001b[0m \u001b[0minput_tensor\u001b[0m \u001b[0;34m=\u001b[0m \u001b[0mtorch\u001b[0m\u001b[0;34m.\u001b[0m\u001b[0mrand\u001b[0m\u001b[0;34m(\u001b[0m\u001b[0;36m2\u001b[0m\u001b[0;34m,\u001b[0m \u001b[0;36m20\u001b[0m\u001b[0;34m)\u001b[0m\u001b[0;34m\u001b[0m\u001b[0;34m\u001b[0m\u001b[0m\n\u001b[0;32m----> 3\u001b[0;31m \u001b[0moutput\u001b[0m \u001b[0;34m=\u001b[0m \u001b[0mnetwork\u001b[0m\u001b[0;34m.\u001b[0m\u001b[0mforward\u001b[0m\u001b[0;34m(\u001b[0m\u001b[0minput_tensor\u001b[0m\u001b[0;34m)\u001b[0m\u001b[0;34m\u001b[0m\u001b[0;34m\u001b[0m\u001b[0m\n\u001b[0m",
            "\u001b[0;31mTypeError\u001b[0m: MLP.forward() takes 1 positional argument but 2 were given"
          ]
        }
      ]
    },
    {
      "cell_type": "code",
      "source": [
        "#ExecutingCodeintheForwardPropagationFunction\n",
        "'''Sometimes, however, we might want to incorporate terms that are neither the result of previous layers nor updatable parameters. We call these con- stantparameters. Sayforexamplethatwewantalayerthatcalculatesthefunctionf(x,w) = c·w⊤x, where x is the input, w is our parameter, and c is some specified constant that is not updated dur- ing optimization. So we implement a FixedHiddenMLP class as follows.'''\n",
        "\n"
      ],
      "metadata": {
        "colab": {
          "base_uri": "https://localhost:8080/",
          "height": 71
        },
        "id": "FkIV1BU5ut7c",
        "outputId": "b20ebb64-b132-4f66-f7c2-a5207e34ddce"
      },
      "execution_count": null,
      "outputs": [
        {
          "output_type": "execute_result",
          "data": {
            "text/plain": [
              "'Sometimes, however, we might want to incorporate terms that are neither the result of previous layers nor updatable parameters. We call these con- stantparameters. Sayforexamplethatwewantalayerthatcalculatesthefunctionf(x,w) = c·w⊤x, where x is the input, w is our parameter, and c is some specified constant that is not updated dur- ing optimization. So we implement a FixedHiddenMLP class as follows.'"
            ],
            "application/vnd.google.colaboratory.intrinsic+json": {
              "type": "string"
            }
          },
          "metadata": {},
          "execution_count": 33
        }
      ]
    },
    {
      "cell_type": "code",
      "source": [
        "class FixedHiddenMLP(nn.Module):\n",
        "  def __init__(self):\n",
        "    super(FixedHiddenMLP,self).__init__()\n",
        "    self.rand_weight = nn.Parameter(torch.rand(20,20))\n",
        "    self.Dense = nn.Linear(20,20)\n",
        "\n",
        "  def forward(self, x):\n",
        "    x = self.Dense(x)\n",
        "    x = torch.relu(torch.matmul(x,self.rand_weight)+1)\n",
        "    x = self.Dense(x)\n",
        "    while torch.abs(x).sum()>1:\n",
        "      x/=2\n",
        "    return x"
      ],
      "metadata": {
        "id": "t06DD9hivb7m"
      },
      "execution_count": null,
      "outputs": []
    },
    {
      "cell_type": "code",
      "source": [
        "fhm = FixedHiddenMLP()\n",
        "fhm(torch.rand(20,20))"
      ],
      "metadata": {
        "colab": {
          "base_uri": "https://localhost:8080/"
        },
        "id": "0UHU7hqc5T7N",
        "outputId": "7e1bd020-32e1-4016-a9e6-4cda5d96b2ca"
      },
      "execution_count": null,
      "outputs": [
        {
          "output_type": "execute_result",
          "data": {
            "text/plain": [
              "tensor([[-4.6792e-03,  1.5965e-03,  1.1950e-03,  1.8084e-03,  1.9456e-03,\n",
              "          1.1089e-04, -4.9764e-03, -4.6540e-03,  4.2915e-03, -2.2255e-03,\n",
              "         -3.3379e-03,  1.7596e-03, -1.7479e-03,  7.5417e-04, -3.4026e-03,\n",
              "         -1.0444e-03, -7.5537e-03,  3.8638e-03,  8.2961e-04,  4.9754e-03],\n",
              "        [-1.0450e-03,  6.3789e-04, -3.7097e-04,  3.1251e-04,  6.7853e-04,\n",
              "         -8.9142e-04, -1.0511e-03, -2.2978e-03,  1.1776e-03, -2.0671e-03,\n",
              "         -2.9685e-03, -3.0787e-04, -8.1256e-05,  2.5232e-04, -1.4431e-03,\n",
              "         -7.8819e-04, -1.7822e-03,  1.3867e-03,  1.3048e-03,  7.6075e-04],\n",
              "        [-1.1858e-03, -2.6174e-04, -2.2560e-04,  5.4843e-04,  1.1083e-03,\n",
              "         -8.6307e-04, -1.8834e-03, -2.2567e-03,  1.9443e-03, -1.5982e-03,\n",
              "         -3.0995e-03, -4.7041e-04, -4.3130e-04,  7.7764e-04, -5.7941e-04,\n",
              "         -1.5773e-03, -2.7111e-03,  1.8258e-03,  9.9817e-04,  1.9669e-03],\n",
              "        [-3.0162e-03,  8.8817e-04,  2.0119e-03,  1.6058e-03,  2.0036e-04,\n",
              "         -9.6304e-04, -5.1123e-03, -1.7861e-03,  3.4992e-03, -2.3298e-03,\n",
              "         -2.0282e-03,  1.9435e-03, -1.2367e-03,  5.5506e-04, -1.1146e-03,\n",
              "         -9.7836e-04, -6.2281e-03,  2.4720e-03,  2.7472e-04,  5.1651e-03],\n",
              "        [-1.4142e-03,  1.2386e-04,  5.0496e-05,  5.9700e-04,  9.8744e-04,\n",
              "         -8.0776e-04, -1.9214e-03, -2.2822e-03,  1.8481e-03, -2.0443e-03,\n",
              "         -2.8708e-03, -1.9014e-04, -6.7354e-04,  6.4076e-04, -1.1441e-03,\n",
              "         -1.1986e-03, -2.8482e-03,  1.7683e-03,  1.0113e-03,  2.0593e-03],\n",
              "        [-5.5373e-03,  2.1894e-03,  2.3938e-03,  2.1219e-03,  1.4669e-03,\n",
              "          5.1781e-04, -7.8233e-03, -4.9189e-03,  5.4086e-03, -2.4975e-03,\n",
              "         -3.0225e-03,  3.0523e-03, -2.0600e-03,  7.9211e-04, -3.9463e-03,\n",
              "         -1.0951e-03, -1.0359e-02,  4.7375e-03,  5.8600e-04,  7.6478e-03],\n",
              "        [-1.2257e-03,  2.0373e-04, -4.6945e-04,  5.2435e-05,  1.3402e-03,\n",
              "         -5.1879e-04, -1.5656e-03, -2.7921e-03,  1.7131e-03, -1.0303e-03,\n",
              "         -2.3893e-03, -5.1350e-04, -2.6258e-04,  8.5509e-04, -1.0521e-03,\n",
              "         -1.2110e-03, -2.1813e-03,  1.9476e-03,  1.1232e-03,  1.8235e-03],\n",
              "        [-2.3846e-03,  7.9051e-04,  1.0441e-03,  2.0025e-03,  1.6726e-03,\n",
              "          1.4141e-05, -3.1793e-03, -2.4229e-03,  2.5995e-03, -2.6884e-03,\n",
              "         -3.0881e-03,  8.0188e-04, -1.8335e-03,  9.2492e-04, -2.4367e-03,\n",
              "         -7.8413e-04, -5.0962e-03,  2.2968e-03,  3.9647e-04,  3.1180e-03],\n",
              "        [-3.3707e-04,  5.8489e-04, -1.7149e-04, -1.0068e-05,  9.6429e-05,\n",
              "         -7.7119e-04, -8.5942e-04, -1.1935e-03,  5.6213e-04, -1.7968e-03,\n",
              "         -2.0658e-03, -3.4111e-04, -3.3208e-04,  6.7405e-05, -7.9159e-04,\n",
              "         -3.7990e-04, -6.5572e-04,  7.5988e-04,  5.4232e-04,  6.4903e-04],\n",
              "        [-2.6813e-03,  1.3129e-03,  2.5214e-04,  8.1876e-04,  1.4090e-03,\n",
              "         -4.3843e-04, -3.0933e-03, -3.5845e-03,  2.4608e-03, -2.3202e-03,\n",
              "         -3.0801e-03,  9.4055e-04, -1.1763e-03,  5.0130e-04, -2.5129e-03,\n",
              "         -7.6547e-04, -4.8044e-03,  2.9184e-03,  6.6278e-04,  3.3538e-03],\n",
              "        [-1.9527e-03,  1.2724e-03,  8.3955e-04,  1.8905e-03,  8.3652e-04,\n",
              "         -8.6339e-04, -3.6170e-03, -2.2980e-03,  2.1971e-03, -2.7999e-03,\n",
              "         -2.8400e-03,  1.1164e-03, -9.6727e-04,  5.5759e-04, -1.6611e-03,\n",
              "         -6.1425e-04, -4.5740e-03,  2.3870e-03,  2.2868e-04,  3.7478e-03],\n",
              "        [-2.5905e-03,  1.8592e-04,  5.4258e-04,  1.6652e-03,  9.9491e-04,\n",
              "         -7.1223e-04, -3.2567e-03, -2.8975e-03,  3.1447e-03, -1.4255e-03,\n",
              "         -2.4790e-03,  3.0610e-04, -9.8821e-04,  6.3347e-04, -1.4574e-03,\n",
              "         -1.5308e-03, -5.1257e-03,  2.5639e-03,  9.0100e-04,  3.6683e-03],\n",
              "        [-2.0874e-03,  7.3570e-04,  1.8446e-05,  7.0220e-04,  8.7722e-04,\n",
              "         -1.0668e-03, -1.8223e-03, -3.0038e-03,  1.6724e-03, -2.4875e-03,\n",
              "         -3.1269e-03,  1.0821e-04, -4.0375e-04,  2.8250e-04, -2.0299e-03,\n",
              "         -6.4315e-04, -3.2067e-03,  1.9852e-03,  1.3052e-03,  2.0062e-03],\n",
              "        [-2.3793e-03,  8.0384e-04,  3.0534e-05,  1.3389e-03,  1.3781e-03,\n",
              "         -1.0384e-03, -2.5468e-03, -3.4231e-03,  2.3041e-03, -2.7822e-03,\n",
              "         -4.0686e-03,  8.1296e-05, -2.9196e-04,  8.9809e-04, -1.9954e-03,\n",
              "         -1.1333e-03, -4.3129e-03,  2.6457e-03,  1.3964e-03,  2.6472e-03],\n",
              "        [-1.8988e-03,  8.6191e-04,  4.5028e-04,  1.7242e-03,  1.6817e-03,\n",
              "         -2.0656e-04, -3.0207e-03, -2.5929e-03,  2.4897e-03, -2.1707e-03,\n",
              "         -3.0902e-03,  4.5375e-04, -1.2197e-03,  1.1538e-03, -1.7691e-03,\n",
              "         -8.5867e-04, -4.3790e-03,  2.4922e-03,  5.9628e-04,  3.0618e-03],\n",
              "        [-2.4370e-03,  1.9631e-04,  1.4287e-03,  2.6320e-03,  8.3665e-04,\n",
              "         -1.0275e-03, -3.6927e-03, -1.9235e-03,  2.7339e-03, -2.3420e-03,\n",
              "         -2.8167e-03,  9.8542e-04, -8.8767e-04,  8.4079e-04, -1.1901e-03,\n",
              "         -1.2627e-03, -5.4948e-03,  2.2521e-03,  4.5657e-04,  3.8851e-03],\n",
              "        [-2.3270e-03,  3.9579e-04,  2.5820e-04,  1.2401e-03,  7.5755e-04,\n",
              "         -9.9396e-04, -4.1956e-03, -3.5257e-03,  2.6072e-03, -1.6336e-03,\n",
              "         -2.7255e-03,  1.2481e-03, -5.1008e-04,  9.0271e-05, -9.6640e-04,\n",
              "         -2.0497e-03, -5.2819e-03,  3.1455e-03,  8.4023e-04,  4.1618e-03],\n",
              "        [-2.2656e-03, -3.5417e-05,  7.7860e-05,  7.2346e-04,  5.4738e-04,\n",
              "         -1.6773e-03, -2.4353e-03, -2.7361e-03,  1.8288e-03, -1.8900e-03,\n",
              "         -3.0673e-03,  3.4809e-04,  1.4618e-04,  4.1763e-04, -6.2038e-04,\n",
              "         -1.6190e-03, -3.4233e-03,  2.0823e-03,  1.1079e-03,  2.5838e-03],\n",
              "        [-1.6425e-03,  2.1607e-04, -5.1539e-04,  4.1675e-04,  1.4006e-03,\n",
              "         -4.4710e-04, -2.0641e-03, -3.1339e-03,  2.3952e-03, -1.1220e-03,\n",
              "         -2.7904e-03, -2.4950e-04, -7.3079e-04,  7.2832e-04, -1.1904e-03,\n",
              "         -1.6476e-03, -2.9757e-03,  2.2606e-03,  1.0770e-03,  2.0936e-03],\n",
              "        [-1.5291e-03,  3.6155e-04, -4.0024e-05,  6.3370e-04,  5.2202e-04,\n",
              "         -9.8205e-04, -1.8131e-03, -2.2144e-03,  1.6712e-03, -1.9297e-03,\n",
              "         -2.7175e-03,  1.0675e-04, -7.0178e-04,  2.0320e-04, -8.8594e-04,\n",
              "         -1.0689e-03, -2.5441e-03,  1.7610e-03,  8.0063e-04,  1.8145e-03]],\n",
              "       grad_fn=<DivBackward0>)"
            ]
          },
          "metadata": {},
          "execution_count": 47
        }
      ]
    },
    {
      "cell_type": "code",
      "source": [],
      "metadata": {
        "id": "wytgLj9u5dq6"
      },
      "execution_count": null,
      "outputs": []
    },
    {
      "cell_type": "code",
      "source": [],
      "metadata": {
        "id": "-mPXshr-5q6Q"
      },
      "execution_count": null,
      "outputs": []
    }
  ]
}